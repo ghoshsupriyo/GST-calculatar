{
 "cells": [
  {
   "cell_type": "code",
   "execution_count": null,
   "id": "0bc654d0-ff1b-42b9-bec0-dcf49713a203",
   "metadata": {},
   "outputs": [
    {
     "name": "stdout",
     "output_type": "stream",
     "text": [
      "Indian GST Calculator\n"
     ]
    }
   ],
   "source": [
    "def calculate_gst(amount, gst_rate):\n",
    "    \"\"\"\n",
    "    Calculate GST amount and total amount including GST.\n",
    "\n",
    "    Parameters:\n",
    "    amount (float): The original amount before GST.\n",
    "    gst_rate (float): The GST rate as a percentage.\n",
    "\n",
    "    Returns:\n",
    "    tuple: A tuple containing (GST amount, total amount including GST)\n",
    "    \"\"\"\n",
    "    gst_amount = (amount * gst_rate) / 100\n",
    "    total_amount = amount + gst_amount\n",
    "    return gst_amount, total_amount\n",
    "\n",
    "def main():\n",
    "    print(\"Indian GST Calculator\")\n",
    "\n",
    "    # Define available GST rates\n",
    "    gst_rates = [5, 10, 18]\n",
    "\n",
    "    # Input the original amount\n",
    "    try:\n",
    "        amount = float(input(\"Enter the original amount: ₹\"))\n",
    "\n",
    "        # Display GST rate options\n",
    "        print(\"\\nSelect GST rate from the following options:\")\n",
    "        for i, rate in enumerate(gst_rates, 1):\n",
    "            print(f\"{i}. {rate}%\")\n",
    "\n",
    "        # Input and validate GST rate choice\n",
    "        choice = int(input(\"\\nEnter your choice (1/2/3): \"))\n",
    "\n",
    "        if choice in [1, 2, 3]:\n",
    "            gst_rate = gst_rates[choice - 1]\n",
    "        else:\n",
    "            print(\"Invalid choice. Please select a valid option.\")\n",
    "            return\n",
    "\n",
    "        # Calculate GST and total amount\n",
    "        gst_amount, total_amount = calculate_gst(amount, gst_rate)\n",
    "\n",
    "        # Display results\n",
    "        print(f\"\\nGST Rate: {gst_rate}%\")\n",
    "        print(f\"GST Amount: ₹{gst_amount:.2f}\")\n",
    "        print(f\"Total Amount (including GST): ₹{total_amount:.2f}\")\n",
    "\n",
    "    except ValueError:\n",
    "        print(\"Invalid input. Please enter numeric values for amount and choice.\")\n",
    "\n",
    "if __name__ == \"__main__\":\n",
    "    main()"
   ]
  },
  {
   "cell_type": "code",
   "execution_count": null,
   "id": "d1785360-2836-4ac1-95d8-1bd6ddffca7a",
   "metadata": {},
   "outputs": [],
   "source": []
  }
 ],
 "metadata": {
  "kernelspec": {
   "display_name": "Python 3 (ipykernel)",
   "language": "python",
   "name": "python3"
  },
  "language_info": {
   "codemirror_mode": {
    "name": "ipython",
    "version": 3
   },
   "file_extension": ".py",
   "mimetype": "text/x-python",
   "name": "python",
   "nbconvert_exporter": "python",
   "pygments_lexer": "ipython3",
   "version": "3.12.2"
  }
 },
 "nbformat": 4,
 "nbformat_minor": 5
}
